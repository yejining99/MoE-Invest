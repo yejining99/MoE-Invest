{
 "cells": [
  {
   "cell_type": "markdown",
   "id": "8d34f335",
   "metadata": {},
   "source": [
    "### 1. carlisle agent test"
   ]
  },
  {
   "cell_type": "code",
   "execution_count": 1,
   "id": "17c43f70",
   "metadata": {},
   "outputs": [
    {
     "name": "stderr",
     "output_type": "stream",
     "text": [
      "c:\\Users\\unist\\Desktop\\MOE-Invest\\MoE-Invest\\agents\\carlisle.py:159: LangChainDeprecationWarning: Please see the migration guide at: https://python.langchain.com/docs/versions/migrating_memory/\n",
      "  self.memory = ConversationBufferMemory(memory_key=\"chat_history\", return_messages=True)\n"
     ]
    },
    {
     "name": "stdout",
     "output_type": "stream",
     "text": [
      "To construct a portfolio based on the momentum strategy, we need to consider both the scores and the need for diversification. All the stocks have the same score of 1.00, which means they have the same momentum-to-volatility ratio. Therefore, we need to look at other factors such as the absolute momentum values and the need for diversification to make our decisions.\n",
      "\n",
      "### Strengths and Weaknesses of Each Stock:\n",
      "\n",
      "1. **AAPL (Apple Inc.)**\n",
      "   - **Strengths:** Strong brand, consistent performance, and a leader in technology and innovation.\n",
      "   - **Weaknesses:** High market saturation and dependency on iPhone sales.\n",
      "\n",
      "2. **TSLA (Tesla Inc.)**\n",
      "   - **Strengths:** Leader in electric vehicles, strong growth potential, and innovation in renewable energy.\n",
      "   - **Weaknesses:** High competition, regulatory risks, and market volatility.\n",
      "\n",
      "3. **GOOG (Alphabet Inc.)**\n",
      "   - **Strengths:** Dominance in search and advertising, strong financials, and diverse business segments.\n",
      "   - **Weaknesses:** Regulatory scrutiny and dependency on advertising revenue.\n",
      "\n",
      "4. **AMZN (Amazon.com Inc.)**\n",
      "   - **Strengths:** E-commerce giant, strong cloud computing segment, and continuous innovation.\n",
      "   - **Weaknesses:** Thin profit margins in retail and regulatory challenges.\n",
      "\n",
      "5. **NVDA (NVIDIA Corporation)**\n",
      "   - **Strengths:** Leader in graphics processing units (GPUs), strong growth in AI and data centers.\n",
      "   - **Weaknesses:** High competition and dependency on cyclical semiconductor industry.\n",
      "\n",
      "### Ranking from Best to Worst:\n",
      "\n",
      "1. **AMZN** - Highest momentum, indicating strong recent performance.\n",
      "2. **GOOG** - Second highest momentum, strong business fundamentals.\n",
      "3. **AAPL** - Consistent performer with strong brand value.\n",
      "4. **TSLA** - High growth potential but with higher risk.\n",
      "5. **NVDA** - Strong in its niche but lower momentum compared to others.\n",
      "\n",
      "### Portfolio Weights:\n",
      "\n",
      "Given that all stocks have the same score, we will assign weights based on momentum and the need for diversification. We will give slightly higher weights to stocks with higher momentum while ensuring diversification across different sectors.\n",
      "\n",
      "- **AMZN**: Highest momentum, so it gets the highest weight.\n",
      "- **GOOG**: Second highest momentum, receives a slightly lower weight than AMZN.\n",
      "- **AAPL**: Balanced performer, receives a moderate weight.\n",
      "- **TSLA**: High growth potential, receives a moderate weight.\n",
      "- **NVDA**: Lower momentum, receives the lowest weight.\n",
      "\n",
      "### Final Portfolio:\n",
      "\n",
      "| Ticker | Score | Weight (%) | Reason                                      |\n",
      "|--------|-------|------------|---------------------------------------------|\n",
      "| AMZN   | 1.00  | 30         | Highest momentum, strong e-commerce and cloud |\n",
      "| GOOG   | 1.00  | 25         | Strong fundamentals, second highest momentum |\n",
      "| AAPL   | 1.00  | 20         | Consistent performer, strong brand value    |\n",
      "| TSLA   | 1.00  | 15         | High growth potential, innovation leader    |\n",
      "| NVDA   | 1.00  | 10         | Strong in GPUs, lower momentum              |\n",
      "\n",
      "This allocation balances the momentum strategy with diversification across different sectors and business models.\n"
     ]
    }
   ],
   "source": [
    "from agents.carlisle import CarlisleLLMAgent\n",
    "\n",
    "agent = CarlisleLLMAgent()\n",
    "tickers = ['AAPL', 'MSFT', 'TSLA', 'GOOG', 'AMZN', 'NVDA', 'META', 'NFLX', 'CSCO', 'INTC', 'IBM', 'ORCL', 'SAP']\n",
    "start = '2023-07-01'\n",
    "end = '2024-07-01'\n",
    "\n",
    "df = agent.enrich_data(tickers, start, end)\n",
    "screened = agent.screen_stocks(df)\n",
    "print(agent.explain_topN_with_llm(screened, top_n=5))\n"
   ]
  },
  {
   "cell_type": "code",
   "execution_count": 2,
   "id": "8b024c93",
   "metadata": {},
   "outputs": [
    {
     "data": {
      "text/plain": [
       "'| Ticker | Score | Weight (%) | Reason                                      |\\n|--------|-------|------------|---------------------------------------------|\\n| AMZN   | 1.00  | 30         | Highest momentum, strong e-commerce and cloud |\\n| GOOG   | 1.00  | 25         | Strong fundamentals, second highest momentum |\\n| AAPL   | 1.00  | 20         | Consistent performer, strong brand value    |\\n| TSLA   | 1.00  | 15         | High growth potential, innovation leader    |\\n| NVDA   | 1.00  | 10         | Strong in GPUs, lower momentum              |'"
      ]
     },
     "execution_count": 2,
     "metadata": {},
     "output_type": "execute_result"
    }
   ],
   "source": [
    "agent.portfolio_table"
   ]
  },
  {
   "cell_type": "code",
   "execution_count": 3,
   "id": "dafff369",
   "metadata": {},
   "outputs": [
    {
     "name": "stdout",
     "output_type": "stream",
     "text": [
      "[HumanMessage(content='Explain Top 5 Carlisle picks', additional_kwargs={}, response_metadata={}), AIMessage(content='| Ticker | Score | Weight (%) | Reason                                      |\\n|--------|-------|------------|---------------------------------------------|\\n| AMZN   | 1.00  | 30         | Highest momentum, strong e-commerce and cloud |\\n| GOOG   | 1.00  | 25         | Strong fundamentals, second highest momentum |\\n| AAPL   | 1.00  | 20         | Consistent performer, strong brand value    |\\n| TSLA   | 1.00  | 15         | High growth potential, innovation leader    |\\n| NVDA   | 1.00  | 10         | Strong in GPUs, lower momentum              |', additional_kwargs={}, response_metadata={})]\n"
     ]
    }
   ],
   "source": [
    "print(agent.memory.chat_memory.messages)"
   ]
  }
 ],
 "metadata": {
  "kernelspec": {
   "display_name": "moe_invest_env",
   "language": "python",
   "name": "python3"
  },
  "language_info": {
   "codemirror_mode": {
    "name": "ipython",
    "version": 3
   },
   "file_extension": ".py",
   "mimetype": "text/x-python",
   "name": "python",
   "nbconvert_exporter": "python",
   "pygments_lexer": "ipython3",
   "version": "3.13.4"
  }
 },
 "nbformat": 4,
 "nbformat_minor": 5
}
