{
 "cells": [
  {
   "cell_type": "markdown",
   "id": "8d34f335",
   "metadata": {},
   "source": [
    "### 1. carlisle agent test"
   ]
  },
  {
   "cell_type": "code",
   "execution_count": 1,
   "id": "17c43f70",
   "metadata": {},
   "outputs": [
    {
     "name": "stderr",
     "output_type": "stream",
     "text": [
      "c:\\Users\\unist\\Desktop\\MOE-Invest\\MoE-Invest\\agents\\carlisle.py:159: LangChainDeprecationWarning: Please see the migration guide at: https://python.langchain.com/docs/versions/migrating_memory/\n",
      "  self.memory = ConversationBufferMemory(memory_key=\"chat_history\", return_messages=True)\n"
     ]
    },
    {
     "name": "stdout",
     "output_type": "stream",
     "text": [
      "To construct a portfolio based on the momentum strategy, we need to consider both the scores and the need for diversification. Let's analyze each stock:\n",
      "\n",
      "### Analysis of Each Stock:\n",
      "\n",
      "1. **AAPL (Apple Inc.)**\n",
      "   - **Strengths:** Strong momentum, indicating a significant price increase over the past year. Apple is a well-established company with a robust product ecosystem and a strong brand.\n",
      "   - **Weaknesses:** High market capitalization may limit future growth potential compared to smaller companies.\n",
      "\n",
      "2. **MSFT (Microsoft Corporation)**\n",
      "   - **Strengths:** Consistent performer with strong momentum. Microsoft has a diverse product range, including cloud computing, which is a high-growth area.\n",
      "   - **Weaknesses:** Similar to Apple, its large size may limit explosive growth.\n",
      "\n",
      "3. **TSLA (Tesla, Inc.)**\n",
      "   - **Strengths:** High momentum, driven by innovation in the electric vehicle market. Tesla is a leader in a rapidly growing industry.\n",
      "   - **Weaknesses:** High volatility in the past, though not reflected in the current 60-day measure. Regulatory and competitive risks are present.\n",
      "\n",
      "4. **AMZN (Amazon.com, Inc.)**\n",
      "   - **Strengths:** Strong momentum and a leader in e-commerce and cloud computing. Amazon has a vast market reach and continuous innovation.\n",
      "   - **Weaknesses:** Regulatory scrutiny and competition in various sectors.\n",
      "\n",
      "5. **NVDA (NVIDIA Corporation)**\n",
      "   - **Strengths:** Leader in graphics processing units (GPUs) and AI technology. Strong momentum in a high-growth industry.\n",
      "   - **Weaknesses:** High dependency on the cyclical semiconductor industry.\n",
      "\n",
      "### Ranking Based on Strategy:\n",
      "\n",
      "All stocks have the same score of 1.00, so we need to consider momentum and diversification:\n",
      "\n",
      "1. **AAPL** - Highest momentum, strong brand, and market position.\n",
      "2. **AMZN** - Second highest momentum, diverse business model.\n",
      "3. **MSFT** - Consistent performer, strong in cloud computing.\n",
      "4. **TSLA** - High momentum, innovative leader in EVs.\n",
      "5. **NVDA** - Lower momentum but strong in AI and GPUs.\n",
      "\n",
      "### Portfolio Weights:\n",
      "\n",
      "Given the scores are equal, we will assign weights based on momentum and diversification:\n",
      "\n",
      "- **AAPL**: Highest momentum, so it gets a slightly higher weight.\n",
      "- **AMZN**: Second highest momentum, also gets a significant weight.\n",
      "- **MSFT**: Balanced performer, gets a moderate weight.\n",
      "- **TSLA**: High momentum but higher risk, so a moderate weight.\n",
      "- **NVDA**: Lowest momentum, but important for diversification, so a smaller weight.\n",
      "\n",
      "### Final Portfolio:\n",
      "\n",
      "| Ticker | Score | Weight (%) | Reason                                      |\n",
      "|--------|-------|------------|---------------------------------------------|\n",
      "| AAPL   | 1.00  | 30         | Highest momentum, strong brand and market position. |\n",
      "| AMZN   | 1.00  | 25         | Second highest momentum, diverse business model. |\n",
      "| MSFT   | 1.00  | 20         | Consistent performer, strong in cloud computing. |\n",
      "| TSLA   | 1.00  | 15         | High momentum, innovative leader in EVs.   |\n",
      "| NVDA   | 1.00  | 10         | Lower momentum, important for diversification. |\n",
      "\n",
      "This allocation balances the momentum scores with the need for diversification across different sectors and risk profiles.\n"
     ]
    }
   ],
   "source": [
    "from agents.carlisle import CarlisleLLMAgent\n",
    "\n",
    "agent = CarlisleLLMAgent()\n",
    "tickers = ['AAPL', 'MSFT', 'TSLA', 'GOOG', 'AMZN', 'NVDA', 'META', 'NFLX', 'CSCO', 'INTC', 'IBM', 'ORCL', 'SAP']\n",
    "start = '2023-07-01'\n",
    "end = '2024-07-01'\n",
    "\n",
    "df = agent.enrich_data(tickers, start, end)\n",
    "screened = agent.screen_stocks(df)\n",
    "print(agent.explain_topN_with_llm(screened, top_n=5))\n"
   ]
  },
  {
   "cell_type": "code",
   "execution_count": 2,
   "id": "8b024c93",
   "metadata": {},
   "outputs": [
    {
     "data": {
      "text/plain": [
       "'| Ticker | Score | Weight (%) | Reason                                      |\\n|'"
      ]
     },
     "execution_count": 2,
     "metadata": {},
     "output_type": "execute_result"
    }
   ],
   "source": [
    "agent.portfolio_table"
   ]
  },
  {
   "cell_type": "code",
   "execution_count": 3,
   "id": "dafff369",
   "metadata": {},
   "outputs": [
    {
     "name": "stdout",
     "output_type": "stream",
     "text": [
      "[HumanMessage(content='Explain Top 5 Carlisle picks', additional_kwargs={}, response_metadata={}), AIMessage(content='| Ticker | Score | Weight (%) | Reason                                      |\\n|', additional_kwargs={}, response_metadata={})]\n"
     ]
    }
   ],
   "source": [
    "print(agent.memory.chat_memory.messages)"
   ]
  }
 ],
 "metadata": {
  "kernelspec": {
   "display_name": "moe_invest_env",
   "language": "python",
   "name": "python3"
  },
  "language_info": {
   "codemirror_mode": {
    "name": "ipython",
    "version": 3
   },
   "file_extension": ".py",
   "mimetype": "text/x-python",
   "name": "python",
   "nbconvert_exporter": "python",
   "pygments_lexer": "ipython3",
   "version": "3.13.4"
  }
 },
 "nbformat": 4,
 "nbformat_minor": 5
}
