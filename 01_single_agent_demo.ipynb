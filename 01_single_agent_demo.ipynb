{
 "cells": [
  {
   "cell_type": "code",
   "execution_count": 1,
   "id": "388a6df2",
   "metadata": {},
   "outputs": [],
   "source": [
    "import os\n",
    "\n",
    "tickers = ['AAPL', 'MSFT', 'TSLA', 'GOOG', 'AMZN', 'NVDA', 'META', 'NFLX', 'CSCO', 'INTC', 'IBM', 'ORCL', 'SAP']\n",
    "start = '2023-07-01'\n",
    "end = '2024-07-01'"
   ]
  },
  {
   "cell_type": "markdown",
   "id": "8d34f335",
   "metadata": {},
   "source": [
    "### 1. carlisle agent test"
   ]
  },
  {
   "cell_type": "code",
   "execution_count": 2,
   "id": "17c43f70",
   "metadata": {},
   "outputs": [
    {
     "name": "stderr",
     "output_type": "stream",
     "text": [
      "c:\\Users\\unist\\Desktop\\MOE-Invest\\MoE-Invest\\agents\\carlisle.py:159: LangChainDeprecationWarning: Please see the migration guide at: https://python.langchain.com/docs/versions/migrating_memory/\n",
      "  self.memory = ConversationBufferMemory(memory_key=\"chat_history\", return_messages=True)\n"
     ]
    }
   ],
   "source": [
    "from agents.carlisle import CarlisleLLMAgent\n",
    "\n",
    "agent = CarlisleLLMAgent()\n",
    "df = agent.enrich_data(tickers, start, end)\n",
    "screened = agent.screen_stocks(df)\n",
    "script = agent.explain_topN_with_llm(screened, top_n=5)\n",
    "\n",
    "# save script into data/carlisle_script\n",
    "os.makedirs('data/carlisle_script', exist_ok=True)\n",
    "with open(f'data/carlisle_script/{start}_{end}_answer.md', 'w') as f:\n",
    "    f.write(script)"
   ]
  },
  {
   "cell_type": "markdown",
   "id": "8c5a6297",
   "metadata": {},
   "source": [
    "### 2. driehaus agent test"
   ]
  },
  {
   "cell_type": "code",
   "execution_count": 3,
   "id": "692511af",
   "metadata": {},
   "outputs": [
    {
     "name": "stdout",
     "output_type": "stream",
     "text": [
      "Driehaus - Original columns: ['ticker', 'price_history', 'market_cap', 'start_date', 'end_date']\n"
     ]
    }
   ],
   "source": [
    "from agents.driehaus import DriehausLLMAgent\n",
    "\n",
    "agent = DriehausLLMAgent()\n",
    "df = agent.enrich_data(tickers, start, end)\n",
    "screened = agent.screen_stocks(df)\n",
    "script = agent.explain_topN_with_llm(screened, top_n=5)\n",
    "\n",
    "os.makedirs('data/driehaus_script', exist_ok=True)\n",
    "with open(f'data/driehaus_script/{start}_{end}_answer.md', 'w') as f:\n",
    "    f.write(script)"
   ]
  },
  {
   "cell_type": "markdown",
   "id": "0f1dbecc",
   "metadata": {},
   "source": [
    "### 3. graham agent test"
   ]
  },
  {
   "cell_type": "code",
   "execution_count": 4,
   "id": "edc37846",
   "metadata": {},
   "outputs": [],
   "source": [
    "from agents.graham import GrahamLLMAgent\n",
    "\n",
    "agent = GrahamLLMAgent()\n",
    "df = agent.enrich_data(tickers, start, end)\n",
    "screened = agent.screen_stocks(df)\n",
    "script = agent.explain_topN_with_llm(screened, top_n=5)\n",
    "\n",
    "os.makedirs('data/graham_script', exist_ok=True)\n",
    "with open(f'data/graham_script/{start}_{end}_answer.md', 'w') as f:\n",
    "    f.write(script)\n"
   ]
  },
  {
   "cell_type": "markdown",
   "id": "bb1d2ee1",
   "metadata": {},
   "source": [
    "### 4. greenblatt agent test"
   ]
  },
  {
   "cell_type": "code",
   "execution_count": 5,
   "id": "11d3f0d1",
   "metadata": {},
   "outputs": [],
   "source": [
    "from agents.greenblatt import GreenblattLLMAgent\n",
    "\n",
    "agent = GreenblattLLMAgent()\n",
    "df = agent.enrich_data(tickers, start, end)\n",
    "screened = agent.screen_stocks(df)\n",
    "script = agent.explain_topN_with_llm(screened, top_n=5)\n",
    "\n",
    "os.makedirs('data/greenblatt_script', exist_ok=True)\n",
    "with open(f'data/greenblatt_script/{start}_{end}_answer.md', 'w') as f:\n",
    "    f.write(script)\n"
   ]
  },
  {
   "cell_type": "markdown",
   "id": "7901c0a7",
   "metadata": {},
   "source": [
    "### 5. piotroski agent test"
   ]
  },
  {
   "cell_type": "code",
   "execution_count": 6,
   "id": "64dc960a",
   "metadata": {},
   "outputs": [],
   "source": [
    "from agents.piotroski import PiotroskiLLMAgent\n",
    "\n",
    "agent = PiotroskiLLMAgent()\n",
    "df = agent.enrich_data(tickers, start, end)\n",
    "screened = agent.screen_stocks(df)\n",
    "script = agent.explain_topN_with_llm(screened, top_n=5)\n",
    "\n",
    "os.makedirs('data/piotroski_script', exist_ok=True)\n",
    "with open(f'data/piotroski_script/{start}_{end}_answer.md', 'w') as f:\n",
    "    f.write(script)\n"
   ]
  },
  {
   "cell_type": "code",
   "execution_count": null,
   "id": "53382cfc",
   "metadata": {},
   "outputs": [],
   "source": []
  }
 ],
 "metadata": {
  "kernelspec": {
   "display_name": "moe_invest_env",
   "language": "python",
   "name": "python3"
  },
  "language_info": {
   "codemirror_mode": {
    "name": "ipython",
    "version": 3
   },
   "file_extension": ".py",
   "mimetype": "text/x-python",
   "name": "python",
   "nbconvert_exporter": "python",
   "pygments_lexer": "ipython3",
   "version": "3.13.4"
  }
 },
 "nbformat": 4,
 "nbformat_minor": 5
}
