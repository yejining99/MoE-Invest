{
 "cells": [
  {
   "cell_type": "code",
   "execution_count": 1,
   "id": "e66564c1",
   "metadata": {},
   "outputs": [
    {
     "name": "stderr",
     "output_type": "stream",
     "text": [
      "c:\\Users\\unist\\Desktop\\MOE-Invest\\MoE-Invest\\agents\\__init__.py:6: LangChainDeprecationWarning: As of langchain-core 0.3.0, LangChain uses pydantic v2 internally. The langchain_core.pydantic_v1 module was a compatibility shim for pydantic v1, and should no longer be used. Please update the code to import from Pydantic directly.\n",
      "\n",
      "For example, replace imports like: `from langchain_core.pydantic_v1 import BaseModel`\n",
      "with: `from pydantic import BaseModel`\n",
      "or the v1 compatibility namespace if you are working in a code base that has not been fully upgraded to pydantic 2 yet. \tfrom pydantic.v1 import BaseModel\n",
      "\n",
      "  from .base_agent import BaseAgent\n"
     ]
    },
    {
     "name": "stdout",
     "output_type": "stream",
     "text": [
      "\n",
      "\n",
      "\u001b[1m> Entering new AgentExecutor chain...\u001b[0m\n",
      "\u001b[32;1m\u001b[1;3m\n",
      "Invoking: `metric_current_ratio` with `2023-07-01 to 2024Q2`\n",
      "\n",
      "\n",
      "\u001b[0m\u001b[36;1m\u001b[1;3m     TICKERSYMBOL  current_ratio\n",
      "24           NXPI       2.210797\n",
      "143         CMCSA       0.663573\n",
      "191          PYPL       1.241733\n",
      "263           CEG       1.353560\n",
      "285          PLTR       5.915724\n",
      "...           ...            ...\n",
      "8246         SNPS       2.022822\n",
      "8348         NVDA       4.268953\n",
      "8466         ORLY       0.699168\n",
      "8570         TTWO       0.899062\n",
      "8686         VRTX       2.520749\n",
      "\n",
      "[93 rows x 2 columns]\u001b[0m\u001b[32;1m\u001b[1;3m\n",
      "Invoking: `metric_debt_to_equity` with `2023-07-01 to 2024Q2`\n",
      "\n",
      "\n",
      "\u001b[0m\u001b[33;1m\u001b[1;3m     TICKERSYMBOL  debt_to_equity\n",
      "24           NXPI        2.572189\n",
      "143         CMCSA        3.154989\n",
      "191          PYPL        4.074096\n",
      "263           CEG        4.493654\n",
      "285          PLTR        1.281780\n",
      "...           ...             ...\n",
      "8246         SNPS        1.510972\n",
      "8348         NVDA        1.465464\n",
      "8466         ORLY       -9.090094\n",
      "8570         TTWO        2.160494\n",
      "8686         VRTX        1.362606\n",
      "\n",
      "[93 rows x 2 columns]\u001b[0m\u001b[32;1m\u001b[1;3m\n",
      "Invoking: `metric_interest_coverage` with `2023-07-01 to 2024Q2`\n",
      "\n",
      "\n",
      "\u001b[0m\u001b[38;5;200m\u001b[1;3m     TICKERSYMBOL  interest_coverage\n",
      "24           NXPI           9.298969\n",
      "143         CMCSA           6.466862\n",
      "191          PYPL          15.139785\n",
      "263           CEG           7.718310\n",
      "285          PLTR                NaN\n",
      "...           ...                ...\n",
      "8246         SNPS          30.651038\n",
      "8348         NVDA         305.606557\n",
      "8466         ORLY          15.744706\n",
      "8570         TTWO          -3.947522\n",
      "8686         VRTX          94.434343\n",
      "\n",
      "[93 rows x 2 columns]\u001b[0m\u001b[32;1m\u001b[1;3m\n",
      "Invoking: `metric_roe` with `2023-07-01 to 2024Q2`\n",
      "\n",
      "\n",
      "\u001b[0m\u001b[36;1m\u001b[1;3m     TICKERSYMBOL        roe\n",
      "24           NXPI   7.296518\n",
      "143         CMCSA   4.721278\n",
      "191          PYPL   5.469887\n",
      "263           CEG   7.124726\n",
      "285          PLTR   3.311325\n",
      "...           ...        ...\n",
      "8246         SNPS   5.292957\n",
      "8348         NVDA  28.541706\n",
      "8466         ORLY -39.336311\n",
      "8570         TTWO  -4.372862\n",
      "8686         VRTX -24.322660\n",
      "\n",
      "[93 rows x 2 columns]\u001b[0m\u001b[32;1m\u001b[1;3m\n",
      "Invoking: `metric_asset_turnover` with `2023-07-01 to 2024Q2`\n",
      "\n",
      "\n",
      "\u001b[0m\u001b[33;1m\u001b[1;3m     TICKERSYMBOL  asset_turnover\n",
      "24           NXPI        0.134808\n",
      "143         CMCSA        0.113073\n",
      "191          PYPL        0.093851\n",
      "263           CEG        0.106642\n",
      "285          PLTR        0.130614\n",
      "...           ...             ...\n",
      "8246         SNPS        0.130980\n",
      "8348         NVDA        0.352470\n",
      "8466         ORLY        0.296821\n",
      "8570         TTWO        0.103379\n",
      "8686         VRTX        0.131412\n",
      "\n",
      "[93 rows x 2 columns]\u001b[0m\u001b[32;1m\u001b[1;3m\n",
      "Invoking: `metric_profit_margin` with `2023-07-01 to 2024Q2`\n",
      "\n",
      "\n",
      "\u001b[0m\u001b[38;5;200m\u001b[1;3m     TICKERSYMBOL  profit_margin\n",
      "24           NXPI      21.042533\n",
      "143         CMCSA      13.234303\n",
      "191          PYPL      14.305644\n",
      "263           CEG      14.867580\n",
      "285          PLTR      19.778687\n",
      "...           ...            ...\n",
      "8246         SNPS      26.744569\n",
      "8348         NVDA      55.256325\n",
      "8466         ORLY      14.579089\n",
      "8570         TTWO     -19.578538\n",
      "8686         VRTX    -135.833081\n",
      "\n",
      "[93 rows x 2 columns]\u001b[0m\u001b[32;1m\u001b[1;3m\n",
      "Invoking: `metric_working_capital_ratio` with `2023-07-01 to 2024Q2`\n",
      "\n",
      "\n",
      "\u001b[0m\u001b[36;1m\u001b[1;3m     TICKERSYMBOL  working_capital_ratio\n",
      "24           NXPI              16.244180\n",
      "143         CMCSA              -4.528575\n",
      "191          PYPL              14.591268\n",
      "263           CEG               3.994936\n",
      "285          PLTR              76.399898\n",
      "...           ...                    ...\n",
      "8246         SNPS              22.258334\n",
      "8348         NVDA              53.579265\n",
      "8466         ORLY             -16.978317\n",
      "8570         TTWO              -2.219458\n",
      "8686         VRTX              26.795019\n",
      "\n",
      "[93 rows x 2 columns]\u001b[0m\u001b[32;1m\u001b[1;3m| Ticker | Score | Weight (%) | Reason |\n",
      "|--------|-------|------------|--------|\n",
      "| NVDA   | 0.95  | 25         | Exceptional profit margin and interest coverage; strong ROE. |\n",
      "| SNPS   | 0.85  | 20         | High interest coverage and profit margin; solid working capital. |\n",
      "| NXPI   | 0.78  | 15         | Strong current ratio and interest coverage; decent ROE. |\n",
      "| PLTR   | 0.72  | 10         | Excellent working capital ratio; high current ratio. |\n",
      "| CMCSA  | 0.65  | 10         | Moderate interest coverage; penalized for high D/E. |\n",
      "| PYPL   | 0.60  | 8          | Good interest coverage; moderate ROE. |\n",
      "| CEG    | 0.55  | 7          | Decent interest coverage; penalized for high D/E. |\n",
      "| ORLY   | 0.50  | 5          | Strong asset turnover; penalized for negative ROE. |\n",
      "| TTWO   | 0.45  | 0          | Negative profit margin and ROE; low interest coverage. |\n",
      "| VRTX   | 0.40  | 0          | Negative profit margin and ROE; penalized for high D/E. |\n",
      "\n",
      "Note: Weights are adjusted to ensure diversification and sum to 100%.\u001b[0m\n",
      "\n",
      "\u001b[1m> Finished chain.\u001b[0m\n",
      "| Ticker | Score | Weight (%) | Reason |\n",
      "|--------|-------|------------|--------|\n",
      "| NVDA   | 0.95  | 25         | Exceptional profit margin and interest coverage; strong ROE. |\n",
      "| SNPS   | 0.85  | 20         | High interest coverage and profit margin; solid working capital. |\n",
      "| NXPI   | 0.78  | 15         | Strong current ratio and interest coverage; decent ROE. |\n",
      "| PLTR   | 0.72  | 10         | Excellent working capital ratio; high current ratio. |\n",
      "| CMCSA  | 0.65  | 10         | Moderate interest coverage; penalized for high D/E. |\n",
      "| PYPL   | 0.60  | 8          | Good interest coverage; moderate ROE. |\n",
      "| CEG    | 0.55  | 7          | Decent interest coverage; penalized for high D/E. |\n",
      "| ORLY   | 0.50  | 5          | Strong asset turnover; penalized for negative ROE. |\n",
      "| TTWO   | 0.45  | 0          | Negative profit margin and ROE; low interest coverage. |\n",
      "| VRTX   | 0.40  | 0          | Negative profit margin and ROE; penalized for high D/E. |\n",
      "\n",
      "Note: Weights are adjusted to ensure diversification and sum to 100%.\n"
     ]
    }
   ],
   "source": [
    "from agents.graham_agent import GrahamInvestmentAnalyzer\n",
    "from langchain_openai import ChatOpenAI\n",
    "\n",
    "llm = ChatOpenAI(model=\"gpt-4o\", temperature=0)\n",
    "agent = GrahamInvestmentAnalyzer(llm=llm)\n",
    "\n",
    "start_date = '2023-07-01'\n",
    "end_date = '2024Q2'\n",
    "\n",
    "result = agent.analyze(start_date, end_date)\n",
    "print(result)"
   ]
  },
  {
   "cell_type": "code",
   "execution_count": null,
   "id": "ee81e6fa",
   "metadata": {},
   "outputs": [],
   "source": []
  },
  {
   "cell_type": "code",
   "execution_count": null,
   "id": "cf79d6f2",
   "metadata": {},
   "outputs": [],
   "source": []
  },
  {
   "cell_type": "code",
   "execution_count": 1,
   "id": "388a6df2",
   "metadata": {},
   "outputs": [],
   "source": [
    "import os\n",
    "\n",
    "tickers = ['AAPL', 'MSFT', 'TSLA', 'GOOG', 'AMZN', 'NVDA', 'META', 'NFLX', 'CSCO', 'INTC', 'IBM', 'ORCL', 'SAP']\n",
    "start = '2023-07-01'\n",
    "end = '2024-07-01'"
   ]
  },
  {
   "cell_type": "markdown",
   "id": "8d34f335",
   "metadata": {},
   "source": [
    "### 1. carlisle agent test"
   ]
  },
  {
   "cell_type": "code",
   "execution_count": null,
   "id": "17c43f70",
   "metadata": {},
   "outputs": [
    {
     "name": "stderr",
     "output_type": "stream",
     "text": [
      "c:\\Users\\unist\\Desktop\\MOE-Invest\\MoE-Invest\\agents\\carlisle.py:159: LangChainDeprecationWarning: Please see the migration guide at: https://python.langchain.com/docs/versions/migrating_memory/\n",
      "  self.memory = ConversationBufferMemory(memory_key=\"chat_history\", return_messages=True)\n"
     ]
    }
   ],
   "source": [
    "from agents.carlisle import CarlisleLLMAgent()\n",
    "\n",
    "agent = CarlisleLLMAgent()\n",
    "df = agent.enrich_data(tickers, start, end)\n",
    "screened = agent.screen_stocks(df)\n",
    "script = agent.explain_topN_with_llm(screened, top_n=5)\n",
    "\n",
    "# save script into data/carlisle_script\n",
    "os.makedirs('data/carlisle_script', exist_ok=True)\n",
    "with open(f'data/carlisle_script/{start}_{end}_answer.md', 'w') as f:\n",
    "    f.write(script)"
   ]
  },
  {
   "cell_type": "markdown",
   "id": "8c5a6297",
   "metadata": {},
   "source": [
    "### 2. driehaus agent test"
   ]
  },
  {
   "cell_type": "code",
   "execution_count": 3,
   "id": "692511af",
   "metadata": {},
   "outputs": [
    {
     "name": "stdout",
     "output_type": "stream",
     "text": [
      "Driehaus - Original columns: ['ticker', 'price_history', 'market_cap', 'start_date', 'end_date']\n"
     ]
    }
   ],
   "source": [
    "from agents.driehaus import DriehausLLMAgent\n",
    "\n",
    "agent = DriehausLLMAgent()\n",
    "df = agent.enrich_data(tickers, start, end)\n",
    "screened = agent.screen_stocks(df)\n",
    "script = agent.explain_topN_with_llm(screened, top_n=5)\n",
    "\n",
    "os.makedirs('data/driehaus_script', exist_ok=True)\n",
    "with open(f'data/driehaus_script/{start}_{end}_answer.md', 'w') as f:\n",
    "    f.write(script)"
   ]
  },
  {
   "cell_type": "markdown",
   "id": "0f1dbecc",
   "metadata": {},
   "source": [
    "### 3. graham agent test"
   ]
  },
  {
   "cell_type": "code",
   "execution_count": 4,
   "id": "edc37846",
   "metadata": {},
   "outputs": [],
   "source": [
    "from agents.graham import GrahamLLMAgent\n",
    "\n",
    "agent = GrahamLLMAgent()\n",
    "df = agent.enrich_data(tickers, start, end)\n",
    "screened = agent.screen_stocks(df)\n",
    "script = agent.explain_topN_with_llm(screened, top_n=5)\n",
    "\n",
    "os.makedirs('data/graham_script', exist_ok=True)\n",
    "with open(f'data/graham_script/{start}_{end}_answer.md', 'w') as f:\n",
    "    f.write(script)\n"
   ]
  },
  {
   "cell_type": "markdown",
   "id": "bb1d2ee1",
   "metadata": {},
   "source": [
    "### 4. greenblatt agent test"
   ]
  },
  {
   "cell_type": "code",
   "execution_count": 5,
   "id": "11d3f0d1",
   "metadata": {},
   "outputs": [],
   "source": [
    "from agents.greenblatt import GreenblattLLMAgent\n",
    "\n",
    "agent = GreenblattLLMAgent()\n",
    "df = agent.enrich_data(tickers, start, end)\n",
    "screened = agent.screen_stocks(df)\n",
    "script = agent.explain_topN_with_llm(screened, top_n=5)\n",
    "\n",
    "os.makedirs('data/greenblatt_script', exist_ok=True)\n",
    "with open(f'data/greenblatt_script/{start}_{end}_answer.md', 'w') as f:\n",
    "    f.write(script)\n"
   ]
  },
  {
   "cell_type": "markdown",
   "id": "7901c0a7",
   "metadata": {},
   "source": [
    "### 5. piotroski agent test"
   ]
  },
  {
   "cell_type": "code",
   "execution_count": 6,
   "id": "64dc960a",
   "metadata": {},
   "outputs": [],
   "source": [
    "from agents.piotroski import PiotroskiLLMAgent\n",
    "\n",
    "agent = PiotroskiLLMAgent()\n",
    "df = agent.enrich_data(tickers, start, end)\n",
    "screened = agent.screen_stocks(df)\n",
    "script = agent.explain_topN_with_llm(screened, top_n=5)\n",
    "\n",
    "os.makedirs('data/piotroski_script', exist_ok=True)\n",
    "with open(f'data/piotroski_script/{start}_{end}_answer.md', 'w') as f:\n",
    "    f.write(script)\n"
   ]
  },
  {
   "cell_type": "code",
   "execution_count": null,
   "id": "53382cfc",
   "metadata": {},
   "outputs": [],
   "source": []
  }
 ],
 "metadata": {
  "kernelspec": {
   "display_name": "moe_invest_env",
   "language": "python",
   "name": "python3"
  },
  "language_info": {
   "codemirror_mode": {
    "name": "ipython",
    "version": 3
   },
   "file_extension": ".py",
   "mimetype": "text/x-python",
   "name": "python",
   "nbconvert_exporter": "python",
   "pygments_lexer": "ipython3",
   "version": "3.13.4"
  }
 },
 "nbformat": 4,
 "nbformat_minor": 5
}
