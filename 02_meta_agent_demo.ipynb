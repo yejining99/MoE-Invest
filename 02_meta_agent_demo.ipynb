{
 "cells": [
  {
   "cell_type": "markdown",
   "id": "dd6a2a13",
   "metadata": {},
   "source": [
    "## MoE-Invest Meta Agent Demo (Langchain, LangGraph 기반)\n",
    "### 여러 투자 전략을 종합하는 메타 에이전트 데모\n",
    "\n",
    "이 노트북에서는 LangChain과 LangGraph를 활용한 새로운 체인 구조를 시연합니다:\n",
    "- **에이전트 실행**: RunnableSequence (screen → score → explain)\n",
    "- **병렬 처리**: RunnableParallel로 모든 에이전트 동시 실행\n",
    "- **워크플로우**: LangGraph로 전체 흐름 제어\n",
    "- **CoT 분석**: LLMChain으로 종합 분석"
   ]
  },
  {
   "cell_type": "code",
   "execution_count": 1,
   "id": "296eebf2",
   "metadata": {},
   "outputs": [
    {
     "name": "stderr",
     "output_type": "stream",
     "text": [
      "c:\\Users\\unist\\Desktop\\MOE-Invest\\MoE-Invest\\agents\\__init__.py:6: LangChainDeprecationWarning: As of langchain-core 0.3.0, LangChain uses pydantic v2 internally. The langchain_core.pydantic_v1 module was a compatibility shim for pydantic v1, and should no longer be used. Please update the code to import from Pydantic directly.\n",
      "\n",
      "For example, replace imports like: `from langchain_core.pydantic_v1 import BaseModel`\n",
      "with: `from pydantic import BaseModel`\n",
      "or the v1 compatibility namespace if you are working in a code base that has not been fully upgraded to pydantic 2 yet. \tfrom pydantic.v1 import BaseModel\n",
      "\n",
      "  from .base_agent import BaseAgent\n",
      "c:\\Users\\unist\\Desktop\\MOE-Invest\\MoE-Invest\\meta_agent\\master_agent.py:55: LangChainDeprecationWarning: Please see the migration guide at: https://python.langchain.com/docs/versions/migrating_memory/\n",
      "  self.memory = ConversationBufferMemory(memory_key=\"chat_history\", return_messages=True)\n",
      "c:\\Users\\unist\\Desktop\\MOE-Invest\\MoE-Invest\\meta_agent\\master_agent.py:141: LangChainDeprecationWarning: The class `LLMChain` was deprecated in LangChain 0.1.17 and will be removed in 1.0. Use :meth:`~RunnableSequence, e.g., `prompt | llm`` instead.\n",
      "  return LLMChain(\n"
     ]
    },
    {
     "name": "stdout",
     "output_type": "stream",
     "text": [
      "🚀 MoE-Invest 종합 투자 분석을 시작합니다! (LangGraph 기반)\n",
      "\n",
      "🤖 모든 투자 에이전트들을 병렬로 실행 중입니다...\n",
      "  ✅ Graham: 10개 종목 스크리닝 완료\n",
      "  ✅ Piotroski: 10개 종목 스크리닝 완료\n",
      "  ✅ Greenblatt: 10개 종목 스크리닝 완료\n",
      "  ✅ Carlisle: 10개 종목 스크리닝 완료\n",
      "  ✅ Driehaus: 10개 종목 스크리닝 완료\n",
      "\n",
      "🎯 에이전트 간 합의 분석 중...\n",
      "\n",
      "🧠 Chain of Thought 분석 중...\n",
      "\n",
      "\n",
      "\u001b[1m> Entering new LLMChain chain...\u001b[0m\n",
      "Prompt after formatting:\n",
      "\u001b[32;1m\u001b[1;3m\n",
      "You are a professional investment analyst. Your goal is to synthesize opinions from multiple quantitative investment agents \n",
      "to make optimal investment decisions.\n",
      "\n",
      "Each agent's investment philosophy:\n",
      "- Graham Agent: Value investing, prefers low P/E and P/B ratios\n",
      "- Piotroski Agent: Financial health focus, F-Score based analysis  \n",
      "- Greenblatt Agent: Magic Formula based on ROIC and EV/EBIT\n",
      "- Carlisle Agent: Momentum-based investing\n",
      "- Driehaus Agent: Growth investing, targeting high-growth companies\n",
      "\n",
      "## Agent Analysis Results Summary\n",
      "\n",
      "### Recommendations by Each Agent:\n",
      "- **Graham** (Benjamin Graham's value investing strategy (P/E, P/B, financial health)): 10 stocks screened\n",
      "- **Piotroski** (Piotroski F-Score based quality investing (9-point financial score)): 10 stocks screened\n",
      "- **Greenblatt** (Joel Greenblatt's Magic Formula (ROIC + EV/EBIT)): 10 stocks screened\n",
      "- **Carlisle** (Tobias Carlisle's momentum strategy (volatility-adjusted momentum)): 10 stocks screened\n",
      "- **Driehaus** (Richard Driehaus's growth investing (revenue/profit growth rate)): 10 stocks screened\n",
      "\n",
      "\n",
      "### Top Consensus Stocks (Top 10):\n",
      "1. **AAPL**: 100.0% consensus rate (graham, piotroski, greenblatt, carlisle, driehaus)\n",
      "2. **MSFT**: 100.0% consensus rate (graham, piotroski, greenblatt, carlisle, driehaus)\n",
      "3. **TSLA**: 100.0% consensus rate (graham, piotroski, greenblatt, carlisle, driehaus)\n",
      "4. **AMZN**: 100.0% consensus rate (graham, piotroski, greenblatt, carlisle, driehaus)\n",
      "5. **NVDA**: 100.0% consensus rate (graham, piotroski, greenblatt, carlisle, driehaus)\n",
      "\n",
      "\n",
      "## Chain of Thought Analysis Steps\n",
      "\n",
      "Please analyze systematically through the following 4 steps:\n",
      "\n",
      "### Step 1: Analyze consensus stocks from each investment strategy perspective\n",
      "- Graham (Value): Assess undervaluation\n",
      "- Piotroski (Quality): Financial health evaluation\n",
      "- Greenblatt (Efficiency): Capital efficiency and valuation analysis\n",
      "- Carlisle (Momentum): Price trends and technical signals\n",
      "- Driehaus (Growth): Growth potential and momentum\n",
      "\n",
      "### Step 2: Consider Current Market Environment\n",
      "- Evaluate the effectiveness of each strategy in the current market\n",
      "- Consider macroeconomic environment and sector rotation\n",
      "\n",
      "### Step 3: Portfolio Construction Perspective\n",
      "- Sector and style diversification\n",
      "- Risk dispersion effects\n",
      "- Correlation analysis\n",
      "\n",
      "### Step 4: Final Investment Decision and Weight Allocation\n",
      "- Select top 10-15 stocks\n",
      "- Determine investment weight for each stock (%)\n",
      "- Explain investment rationale and risk factors\n",
      "\n",
      "Show detailed reasoning process for each step, and finally present the final portfolio in the following format:\n",
      "\n",
      "| Rank | Stock | Weight(%) | # of Recommending Agents | Investment Rationale | Key Risks |\n",
      "|------|-------|-----------|--------------------------|---------------------|-----------|\n",
      "| 1    | AAPL  | 8.5       | 3                        | ...                 | ...       |\n",
      "\n",
      "Please construct the portfolio so that total weight equals 100%.\n",
      "\n",
      "Chat History:\n",
      "No prior analysis.\n",
      "\u001b[0m\n"
     ]
    },
    {
     "name": "stderr",
     "output_type": "stream",
     "text": [
      "c:\\Users\\unist\\Desktop\\MOE-Invest\\MoE-Invest\\meta_agent\\master_agent.py:301: LangChainDeprecationWarning: The method `Chain.run` was deprecated in langchain 0.1.0 and will be removed in 1.0. Use :meth:`~invoke` instead.\n",
      "  analysis = self.cot_chain.run({\n"
     ]
    },
    {
     "name": "stdout",
     "output_type": "stream",
     "text": [
      "\n",
      "\u001b[1m> Finished chain.\u001b[0m\n",
      "\n",
      "💾 분석 결과 저장 중...\n",
      "✅ 분석 결과가 data/meta_analysis/ 디렉토리에 저장되었습니다.\n",
      "\n",
      "🎉 MoE-Invest 종합 분석이 완료되었습니다!\n"
     ]
    }
   ],
   "source": [
    "from meta_agent.master_agent import MasterInvestmentAgent\n",
    "\n",
    "# 1. 분석할 종목 리스트\n",
    "tickers = [\"AAPL\", \"MSFT\", \"TSLA\", \"NVDA\", \"AMZN\", \"META\", \"GOOG\", \"NFLX\", \"JPM\", \"UNH\"]\n",
    "\n",
    "# 2. 분석 기간\n",
    "start_date = \"2024-07-01\"\n",
    "end_date = \"2025-07-01\"\n",
    "\n",
    "# 3. 에이전트 실행\n",
    "master = MasterInvestmentAgent()\n",
    "result = master.run_comprehensive_analysis(tickers, start_date, end_date, top_n=5)\n"
   ]
  },
  {
   "cell_type": "code",
   "execution_count": null,
   "id": "c0a18d52",
   "metadata": {},
   "outputs": [],
   "source": []
  }
 ],
 "metadata": {
  "kernelspec": {
   "display_name": "moe_invest_env",
   "language": "python",
   "name": "python3"
  },
  "language_info": {
   "codemirror_mode": {
    "name": "ipython",
    "version": 3
   },
   "file_extension": ".py",
   "mimetype": "text/x-python",
   "name": "python",
   "nbconvert_exporter": "python",
   "pygments_lexer": "ipython3",
   "version": "3.13.4"
  }
 },
 "nbformat": 4,
 "nbformat_minor": 5
}
